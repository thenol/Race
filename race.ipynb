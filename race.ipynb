{
 "cells": [
  {
   "cell_type": "code",
   "execution_count": 6,
   "metadata": {},
   "outputs": [],
   "source": [
    "import plotly\n",
    "import plotly.plotly as py\n",
    "import plotly.graph_objs as go\n",
    "import pandas as pd\n",
    "import numpy as np\n",
    "import datetime\n",
    "import time\n",
    "import os"
   ]
  },
  {
   "cell_type": "code",
   "execution_count": 7,
   "metadata": {},
   "outputs": [
    {
     "data": {
      "text/plain": [
       "'\\n    用户标识（uId）匿名化处理后的用户唯一标识（ID取值从1000001开始，依次递增）\\n    应用标识（appId）匿名化处理后的app唯一标识\\n    使用时长（duration）1天内用户对某app的累计使用时长\\n    打开次数（times）1天内用户对某app的累计打开次数\\n    使用日期（use_date）用户对某app的使用日期\\n'"
      ]
     },
     "execution_count": 7,
     "metadata": {},
     "output_type": "execute_result"
    }
   ],
   "source": [
    "# data dictionary\n",
    "'''\n",
    "    用户标识（uId）匿名化处理后的用户唯一标识（ID取值从1000001开始，依次递增）\n",
    "    应用标识（appId）匿名化处理后的app唯一标识\n",
    "    使用时长（duration）1天内用户对某app的累计使用时长\n",
    "    打开次数（times）1天内用户对某app的累计打开次数\n",
    "    使用日期（use_date）用户对某app的使用日期\n",
    "'''"
   ]
  },
  {
   "cell_type": "code",
   "execution_count": 8,
   "metadata": {},
   "outputs": [],
   "source": [
    "## data preprocessing\n",
    "### filename : user_app_usage.csv\n",
    "### assumptions:\n"
   ]
  },
  {
   "cell_type": "code",
   "execution_count": 9,
   "metadata": {},
   "outputs": [],
   "source": [
    "# function blocks:\n",
    "def dateToInt(minDate='2019-02-01',maxDate='2019-04-30'):\n",
    "    '''\n",
    "    for cleaning the datetime-type data\n",
    "    start from 0 increasingly by 1\n",
    "    '''\n",
    "    d = {}\n",
    "    i = 1\n",
    "    start = datetime.datetime.strptime(minDate,'%Y-%m-%d')\n",
    "    end = datetime.datetime.strptime(maxDate,'%Y-%m-%d')\n",
    "    time = start\n",
    "    while time <= end:\n",
    "        d[datetime.datetime.strftime(time,'%Y-%m-%d')]=i\n",
    "        time = time + datetime.timedelta(1)\n",
    "        i+=1\n",
    "#     print(np.array([str(v)+' : '+str(k) for k,v in d.items()],dtype='str').reshape(-1,1)) # meanning of integer\n",
    "    return d\n",
    "\n",
    "\n",
    "def appIdToInt(ls):\n",
    "    '''\n",
    "    for cleaning the uId\n",
    "    translate the uId to integer\n",
    "    '''\n",
    "    d={}\n",
    "    i=1\n",
    "    for v in ls:\n",
    "        if v in d:\n",
    "            pass\n",
    "        else:\n",
    "            d[v]=i\n",
    "            i+=1\n",
    "#     print(np.array([str(v)+' : '+str(k) for k,v in d.items()],dtype='str').reshape(-1,1))\n",
    "    return d\n",
    "\n",
    "def fileSlice(filepath='./user_app_usage.csv',CHUNK_SIZE = 10000000):\n",
    "    '''\n",
    "    for slicing file into many small files, default size of small file is 20*CHUNKSIZE\n",
    "    output file name is\n",
    "    '''\n",
    "    reader = pd.read_csv(filepath, iterator=True, names=['uId','appId','duration','times','use_date'])\n",
    "    \n",
    "    EOF = True\n",
    "    i = 0\n",
    "    s = 0\n",
    "    start = time.time()\n",
    "    count = 0\n",
    "    while EOF:\n",
    "        try:\n",
    "            chunk = reader.get_chunk(CHUNK_SIZE)\n",
    "            i+=1\n",
    "            gap = time.time()\n",
    "            s=s+gap-start\n",
    "            print(i,' time gap:',gap-start,' all time:',s,chunk.shape)\n",
    "            start = gap\n",
    "            chunk.to_csv('{0}_{1}.csv'.format(os.path.splitext(os.path.basename(filepath))[0],i//20+1),header = False, mode='a')\n",
    "\n",
    "        except:\n",
    "            EOF = False\n",
    "            print('end of file')\n",
    "            print(i*CHUNK_SIZE)\n",
    "\n"
   ]
  },
  {
   "cell_type": "code",
   "execution_count": 10,
   "metadata": {},
   "outputs": [],
   "source": [
    "# data cleaning:"
   ]
  },
  {
   "cell_type": "code",
   "execution_count": 5,
   "metadata": {
    "scrolled": false
   },
   "outputs": [
    {
     "ename": "NameError",
     "evalue": "name 'pd' is not defined",
     "output_type": "error",
     "traceback": [
      "\u001b[0;31m---------------------------------------------------------------------------\u001b[0m",
      "\u001b[0;31mNameError\u001b[0m                                 Traceback (most recent call last)",
      "\u001b[0;32m<ipython-input-5-d927cc2c6e9d>\u001b[0m in \u001b[0;36m<module>\u001b[0;34m\u001b[0m\n\u001b[1;32m      1\u001b[0m \u001b[0;31m### clean the date type colums\u001b[0m\u001b[0;34m\u001b[0m\u001b[0;34m\u001b[0m\u001b[0;34m\u001b[0m\u001b[0m\n\u001b[1;32m      2\u001b[0m \u001b[0;34m\u001b[0m\u001b[0m\n\u001b[0;32m----> 3\u001b[0;31m \u001b[0mrd\u001b[0m \u001b[0;34m=\u001b[0m \u001b[0mpd\u001b[0m\u001b[0;34m.\u001b[0m\u001b[0mread_csv\u001b[0m\u001b[0;34m(\u001b[0m\u001b[0;34m'./uau_4.csv'\u001b[0m\u001b[0;34m,\u001b[0m\u001b[0miterator\u001b[0m\u001b[0;34m=\u001b[0m\u001b[0;32mTrue\u001b[0m\u001b[0;34m,\u001b[0m \u001b[0mnames\u001b[0m\u001b[0;34m=\u001b[0m\u001b[0;34m[\u001b[0m\u001b[0;34m'uId'\u001b[0m\u001b[0;34m,\u001b[0m\u001b[0;34m'appId'\u001b[0m\u001b[0;34m,\u001b[0m\u001b[0;34m'duration'\u001b[0m\u001b[0;34m,\u001b[0m\u001b[0;34m'times'\u001b[0m\u001b[0;34m,\u001b[0m\u001b[0;34m'use_date'\u001b[0m\u001b[0;34m]\u001b[0m\u001b[0;34m)\u001b[0m\u001b[0;34m\u001b[0m\u001b[0;34m\u001b[0m\u001b[0m\n\u001b[0m\u001b[1;32m      4\u001b[0m \u001b[0mchunk\u001b[0m \u001b[0;34m=\u001b[0m \u001b[0mrd\u001b[0m\u001b[0;34m.\u001b[0m\u001b[0mget_chunk\u001b[0m\u001b[0;34m(\u001b[0m\u001b[0;36m1000000\u001b[0m\u001b[0;34m)\u001b[0m\u001b[0;34m\u001b[0m\u001b[0;34m\u001b[0m\u001b[0m\n\u001b[1;32m      5\u001b[0m \u001b[0;34m\u001b[0m\u001b[0m\n",
      "\u001b[0;31mNameError\u001b[0m: name 'pd' is not defined"
     ]
    }
   ],
   "source": [
    "### clean the date type colums\n",
    "\n",
    "rd = pd.read_csv('./uau_4.csv',iterator=True, names=['uId','appId','duration','times','use_date'])\n",
    "chunk = rd.get_chunk(1000000)\n",
    "\n",
    "dic_date_int = dateToInt(chunk.values[:,4].min(),chunk.values[:,4].max())\n",
    "\n",
    "start = time.time()\n",
    "\n",
    "for k,v in dic_date_int.items():\n",
    "    chunk.replace(k,v,inplace=True) # the reason for use_date replace operation is fast is that the data cluster massively\n",
    "\n",
    "end = time.time()\n",
    "\n",
    "print(chunk,end-start)\n",
    "\n"
   ]
  },
  {
   "cell_type": "code",
   "execution_count": 11,
   "metadata": {},
   "outputs": [
    {
     "ename": "NameError",
     "evalue": "name 'chunk' is not defined",
     "output_type": "error",
     "traceback": [
      "\u001b[0;31m---------------------------------------------------------------------------\u001b[0m",
      "\u001b[0;31mNameError\u001b[0m                                 Traceback (most recent call last)",
      "\u001b[0;32m<ipython-input-11-6039024c3447>\u001b[0m in \u001b[0;36m<module>\u001b[0;34m\u001b[0m\n\u001b[1;32m      1\u001b[0m \u001b[0;31m### clean the appId column\u001b[0m\u001b[0;34m\u001b[0m\u001b[0;34m\u001b[0m\u001b[0;34m\u001b[0m\u001b[0m\n\u001b[1;32m      2\u001b[0m \u001b[0mstart\u001b[0m \u001b[0;34m=\u001b[0m \u001b[0mtime\u001b[0m\u001b[0;34m.\u001b[0m\u001b[0mtime\u001b[0m\u001b[0;34m(\u001b[0m\u001b[0;34m)\u001b[0m\u001b[0;34m\u001b[0m\u001b[0;34m\u001b[0m\u001b[0m\n\u001b[0;32m----> 3\u001b[0;31m \u001b[0mdic_appId_int\u001b[0m \u001b[0;34m=\u001b[0m \u001b[0mappIdToInt\u001b[0m\u001b[0;34m(\u001b[0m\u001b[0mchunk\u001b[0m\u001b[0;34m.\u001b[0m\u001b[0mvalues\u001b[0m\u001b[0;34m[\u001b[0m\u001b[0;34m:\u001b[0m\u001b[0;34m,\u001b[0m\u001b[0;36m1\u001b[0m\u001b[0;34m]\u001b[0m\u001b[0;34m)\u001b[0m\u001b[0;34m\u001b[0m\u001b[0;34m\u001b[0m\u001b[0m\n\u001b[0m\u001b[1;32m      4\u001b[0m \u001b[0;34m\u001b[0m\u001b[0m\n\u001b[1;32m      5\u001b[0m \u001b[0mtmp\u001b[0m \u001b[0;34m=\u001b[0m \u001b[0mchunk\u001b[0m\u001b[0;34m\u001b[0m\u001b[0;34m\u001b[0m\u001b[0m\n",
      "\u001b[0;31mNameError\u001b[0m: name 'chunk' is not defined"
     ]
    }
   ],
   "source": [
    "### clean the appId column\n",
    "start = time.time()\n",
    "dic_appId_int = appIdToInt(chunk.values[:,1])\n",
    "\n",
    "tmp = chunk\n",
    "# for v in tmp.values:\n",
    "# #     chunk.replace(k,v,inplace=True) # the speed is very slow\n",
    "#       print(v)  \n",
    "\n",
    "end = time.time()\n",
    "\n",
    "print(chunk,end-start)"
   ]
  },
  {
   "cell_type": "code",
   "execution_count": 166,
   "metadata": {},
   "outputs": [
    {
     "name": "stdout",
     "output_type": "stream",
     "text": [
      "               uId      appId  duration  times  use_date\n",
      "590000000  2345916  a00275200      17.0   10.0        16\n",
      "590000001  2345916  a00287397      22.0    5.0        10\n",
      "590000002  2345916  a00274701   11001.0  368.0        23\n",
      "590000003  2345916  a00289866     678.0   15.0        24\n",
      "590000004  2345916  a00275200    1217.0   19.0        24\n",
      "590000005  2345916  a00311680       3.0    1.0         6\n",
      "590000006  2345916  a00275200     258.0   61.0         0\n",
      "590000007  2345916  a00336224       6.0    4.0        14\n",
      "590000008  2345916  a00289826      52.0    4.0        19\n",
      "590000009  2345916  a00450743     107.0    2.0        18\n",
      "590000010  2345916  a00287397      77.0    9.0        19\n",
      "590000011  2345916  a00289866     678.0   15.0        25\n",
      "590000012  2345916  a00274701    1519.0   89.0        24\n",
      "590000013  2345916  a00289519     233.0   12.0         0\n",
      "590000014  2345916  a00311680      22.0    2.0         4\n",
      "590000015  2345916  a00289826     235.0    8.0        12\n",
      "590000016  2345916  a00275200      97.0   15.0        25\n",
      "590000017  2345916   a0048562      56.0    2.0        12\n",
      "590000018  2345916  a00289791   15941.0  690.0        22\n",
      "590000019  2345916  a00275200     123.0  130.0         5\n",
      "590000020  2345916  a00278905    1934.0   68.0        23\n",
      "590000021  2345916  a00274701    1325.0   80.0         1\n",
      "590000022  2345916  a00289866      33.0    6.0         2\n",
      "590000023  2345916  a00289826     742.0   23.0        14\n",
      "590000024  2345916  a00450743     393.0   18.0        22\n",
      "590000025  2345916  a00289791    5552.0  326.0        25\n",
      "590000026  2345916  a00289826     217.0   10.0         3\n",
      "590000027  2345916  a00289791    2774.0  195.0         0\n",
      "590000028  2345916  a00336224      48.0    4.0        20\n",
      "590000029  2345916  a00278905    3737.0   63.0         0\n",
      "...            ...        ...       ...    ...       ...\n",
      "590999970  3227152  a00134677      17.0    3.0        29\n",
      "590999971  3227152   a0092898      76.0   13.0         4\n",
      "590999972  3227152  a00339852      38.0    3.0        12\n",
      "590999973  3227152  a00196200      32.0    1.0         2\n",
      "590999974  3227152  a00287085      68.0   19.0        13\n",
      "590999975  3227152  a00134677      12.0    2.0        18\n",
      "590999976  3227152  a00290067     443.0   51.0         5\n",
      "590999977  3227152  a00289866      31.0    1.0         2\n",
      "590999978  3227152   a0048562      16.0    3.0         2\n",
      "590999979  3227152  a00261226     183.0   30.0         4\n",
      "590999980  3227152  a00161874      23.0    4.0        24\n",
      "590999981  3227152   a0048332      38.0    4.0         0\n",
      "590999982  3227152  a00289826    8304.0  431.0         4\n",
      "590999983  3227152  a00161097      42.0   11.0        16\n",
      "590999984  3227152   a0048332    1729.0   36.0         4\n",
      "590999985  3227152  a00103666     111.0   29.0         1\n",
      "590999986  3227152  a00247519    1986.0    7.0         4\n",
      "590999987  3227152   a0048637    1221.0   69.0         6\n",
      "590999988  3227152  a00161072     112.0    9.0        24\n",
      "590999989  3227152  a00448862     107.0   14.0        10\n",
      "590999990  3227152  a00261226     156.0   34.0         6\n",
      "590999991  3227152  a00294186      41.0    4.0         5\n",
      "590999992  3227152  a00121424      38.0    8.0         4\n",
      "590999993  3227152  a00261226     183.0   30.0         5\n",
      "590999994  3227152  a00486330       6.0    5.0         0\n",
      "590999995  3227152   a0018044     659.0   99.0        13\n",
      "590999996  3227152  a00294186     115.0   24.0        11\n",
      "590999997  3227152  a00289866      31.0    1.0         1\n",
      "590999998  3227152  a00290067     348.0   23.0         4\n",
      "590999999  3227152  a00290067     523.0  151.0         8\n",
      "\n",
      "[1000000 rows x 5 columns] 7.9969258308410645\n"
     ]
    }
   ],
   "source": [
    "# testing:\n",
    "\n",
    "rd = pd.read_csv('./uau_4.csv',iterator=True, names=['uId','appId','duration','times','use_date'])\n",
    "chunk = rd.get_chunk(1000000)\n",
    "\n",
    "# clean the date type colums\n",
    "dic_date_int = dateToInt(chunk.values[:,4].min(),chunk.values[:,4].max())\n",
    "\n",
    "start = time.time()\n",
    "\n",
    "for k,v in dic_date_int.items():\n",
    "    chunk.replace(k,v,inplace=True)\n",
    "\n",
    "end = time.time()\n",
    "\n",
    "print(chunk,end-start)\n"
   ]
  },
  {
   "cell_type": "code",
   "execution_count": null,
   "metadata": {},
   "outputs": [],
   "source": []
  }
 ],
 "metadata": {
  "kernelspec": {
   "display_name": "Python 3",
   "language": "python",
   "name": "python3"
  },
  "language_info": {
   "codemirror_mode": {
    "name": "ipython",
    "version": 3
   },
   "file_extension": ".py",
   "mimetype": "text/x-python",
   "name": "python",
   "nbconvert_exporter": "python",
   "pygments_lexer": "ipython3",
   "version": "3.6.7"
  }
 },
 "nbformat": 4,
 "nbformat_minor": 2
}
